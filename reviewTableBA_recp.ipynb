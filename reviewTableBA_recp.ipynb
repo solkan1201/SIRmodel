{
 "cells": [
  {
   "cell_type": "code",
   "execution_count": 2,
   "metadata": {},
   "outputs": [
    {
     "data": {
      "text/html": [
       "        <script type=\"text/javascript\">\n",
       "        window.PlotlyConfig = {MathJaxConfig: 'local'};\n",
       "        if (window.MathJax) {MathJax.Hub.Config({SVG: {font: \"STIX-Web\"}});}\n",
       "        if (typeof require !== 'undefined') {\n",
       "        require.undef(\"plotly\");\n",
       "        requirejs.config({\n",
       "            paths: {\n",
       "                'plotly': ['https://cdn.plot.ly/plotly-latest.min']\n",
       "            }\n",
       "        });\n",
       "        require(['plotly'], function(Plotly) {\n",
       "            window._Plotly = Plotly;\n",
       "        });\n",
       "        }\n",
       "        </script>\n",
       "        "
      ]
     },
     "metadata": {},
     "output_type": "display_data"
    }
   ],
   "source": [
    "import pandas as pd\n",
    "import datetime\n",
    "from datetime import date\n",
    "import numpy as np\n",
    "import matplotlib.pyplot as plt\n",
    "import plotly\n",
    "import plotly.offline as py\n",
    "from plotly.offline import plot, iplot\n",
    "plotly.offline.init_notebook_mode(connected= True)\n",
    "import plotly.graph_objs as go"
   ]
  },
  {
   "cell_type": "code",
   "execution_count": 3,
   "metadata": {},
   "outputs": [
    {
     "data": {
      "text/html": [
       "<div>\n",
       "<style scoped>\n",
       "    .dataframe tbody tr th:only-of-type {\n",
       "        vertical-align: middle;\n",
       "    }\n",
       "\n",
       "    .dataframe tbody tr th {\n",
       "        vertical-align: top;\n",
       "    }\n",
       "\n",
       "    .dataframe thead th {\n",
       "        text-align: right;\n",
       "    }\n",
       "</style>\n",
       "<table border=\"1\" class=\"dataframe\">\n",
       "  <thead>\n",
       "    <tr style=\"text-align: right;\">\n",
       "      <th></th>\n",
       "      <th>Unnamed: 0</th>\n",
       "      <th>Category</th>\n",
       "      <th>Confirmados</th>\n",
       "      <th>Óbitos</th>\n",
       "      <th>recuperados_BA</th>\n",
       "    </tr>\n",
       "  </thead>\n",
       "  <tbody>\n",
       "    <tr>\n",
       "      <th>267</th>\n",
       "      <td>267</td>\n",
       "      <td>2020-11-28</td>\n",
       "      <td>398504</td>\n",
       "      <td>8227</td>\n",
       "      <td>317821</td>\n",
       "    </tr>\n",
       "    <tr>\n",
       "      <th>268</th>\n",
       "      <td>268</td>\n",
       "      <td>2020-11-29</td>\n",
       "      <td>401419</td>\n",
       "      <td>8247</td>\n",
       "      <td>319542</td>\n",
       "    </tr>\n",
       "    <tr>\n",
       "      <th>269</th>\n",
       "      <td>269</td>\n",
       "      <td>2020-11-30</td>\n",
       "      <td>403071</td>\n",
       "      <td>8268</td>\n",
       "      <td>320815</td>\n",
       "    </tr>\n",
       "    <tr>\n",
       "      <th>270</th>\n",
       "      <td>270</td>\n",
       "      <td>2020-12-01</td>\n",
       "      <td>406189</td>\n",
       "      <td>8293</td>\n",
       "      <td>322445</td>\n",
       "    </tr>\n",
       "    <tr>\n",
       "      <th>271</th>\n",
       "      <td>271</td>\n",
       "      <td>2020-12-02</td>\n",
       "      <td>409417</td>\n",
       "      <td>8315</td>\n",
       "      <td>322445</td>\n",
       "    </tr>\n",
       "    <tr>\n",
       "      <th>272</th>\n",
       "      <td>272</td>\n",
       "      <td>2020-12-03</td>\n",
       "      <td>412685</td>\n",
       "      <td>8336</td>\n",
       "      <td>322445</td>\n",
       "    </tr>\n",
       "    <tr>\n",
       "      <th>273</th>\n",
       "      <td>273</td>\n",
       "      <td>2020-12-04</td>\n",
       "      <td>416734</td>\n",
       "      <td>8360</td>\n",
       "      <td>322445</td>\n",
       "    </tr>\n",
       "    <tr>\n",
       "      <th>274</th>\n",
       "      <td>274</td>\n",
       "      <td>2020-12-05</td>\n",
       "      <td>419044</td>\n",
       "      <td>8388</td>\n",
       "      <td>322445</td>\n",
       "    </tr>\n",
       "    <tr>\n",
       "      <th>275</th>\n",
       "      <td>275</td>\n",
       "      <td>2020-12-06</td>\n",
       "      <td>423124</td>\n",
       "      <td>8418</td>\n",
       "      <td>322445</td>\n",
       "    </tr>\n",
       "    <tr>\n",
       "      <th>276</th>\n",
       "      <td>276</td>\n",
       "      <td>2020-12-07</td>\n",
       "      <td>424704</td>\n",
       "      <td>8445</td>\n",
       "      <td>322445</td>\n",
       "    </tr>\n",
       "  </tbody>\n",
       "</table>\n",
       "</div>"
      ],
      "text/plain": [
       "     Unnamed: 0    Category  Confirmados  Óbitos  recuperados_BA\n",
       "267         267  2020-11-28       398504    8227          317821\n",
       "268         268  2020-11-29       401419    8247          319542\n",
       "269         269  2020-11-30       403071    8268          320815\n",
       "270         270  2020-12-01       406189    8293          322445\n",
       "271         271  2020-12-02       409417    8315          322445\n",
       "272         272  2020-12-03       412685    8336          322445\n",
       "273         273  2020-12-04       416734    8360          322445\n",
       "274         274  2020-12-05       419044    8388          322445\n",
       "275         275  2020-12-06       423124    8418          322445\n",
       "276         276  2020-12-07       424704    8445          322445"
      ]
     },
     "execution_count": 3,
     "metadata": {},
     "output_type": "execute_result"
    }
   ],
   "source": [
    "df = pd.read_csv(\"tables/tabelasCasos_Bahia.csv\")\n",
    "df.tail(10)"
   ]
  },
  {
   "cell_type": "code",
   "execution_count": 4,
   "metadata": {},
   "outputs": [
    {
     "data": {
      "text/plain": [
       "Unnamed: 0               269\n",
       "Category          2020-11-30\n",
       "Confirmados           403071\n",
       "Óbitos                  8268\n",
       "recuperados_BA        320815\n",
       "Name: 269, dtype: object"
      ]
     },
     "execution_count": 4,
     "metadata": {},
     "output_type": "execute_result"
    }
   ],
   "source": [
    "df.iloc[269]"
   ]
  },
  {
   "cell_type": "code",
   "execution_count": null,
   "metadata": {},
   "outputs": [],
   "source": []
  }
 ],
 "metadata": {
  "kernelspec": {
   "display_name": "Python 3",
   "language": "python",
   "name": "python3"
  },
  "language_info": {
   "codemirror_mode": {
    "name": "ipython",
    "version": 3
   },
   "file_extension": ".py",
   "mimetype": "text/x-python",
   "name": "python",
   "nbconvert_exporter": "python",
   "pygments_lexer": "ipython3",
   "version": "3.8.5"
  }
 },
 "nbformat": 4,
 "nbformat_minor": 4
}
